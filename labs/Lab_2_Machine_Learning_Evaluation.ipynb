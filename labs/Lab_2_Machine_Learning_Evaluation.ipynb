{
 "cells": [
  {
   "cell_type": "markdown",
   "metadata": {},
   "source": [
    "## **Name:** First Last\n",
    "\n",
    "## **Computing ID:** ID"
   ]
  },
  {
   "cell_type": "markdown",
   "metadata": {
    "id": "r4A9sts1JrTc"
   },
   "source": [
    "# Lab 2: Machine Learning Evaluation (100 Points)"
   ]
  },
  {
   "cell_type": "markdown",
   "metadata": {},
   "source": [
    "[![Open In Colab](https://colab.research.google.com/assets/colab-badge.svg)](https://colab.research.google.com/drive/1_fA3v_ecZ9s2ftcC1nIj_7tLtnJHg6VG?usp=sharing)"
   ]
  },
  {
   "cell_type": "code",
   "execution_count": 21,
   "metadata": {
    "id": "1DAOPfwqMV5t"
   },
   "outputs": [],
   "source": [
    "import pandas as pd\n",
    "import numpy as np\n",
    "import matplotlib.pyplot as plt\n",
    "\n",
    "\n",
    "from sklearn.model_selection import train_test_split, cross_val_score\n",
    "from sklearn.preprocessing import label_binarize\n",
    "from sklearn.model_selection import train_test_split\n",
    "from sklearn.linear_model import LogisticRegression\n",
    "from sklearn.neighbors import KNeighborsClassifier\n",
    "from sklearn.metrics import accuracy_score, precision_score, recall_score, f1_score, roc_curve, auc\n",
    "from sklearn.metrics import confusion_matrix, ConfusionMatrixDisplay\n",
    "from sklearn.model_selection import StratifiedKFold"
   ]
  },
  {
   "cell_type": "markdown",
   "metadata": {
    "id": "15fvjC_zJwzl"
   },
   "source": [
    "# **Part 1: Data Cleaning (40 Points)**"
   ]
  },
  {
   "cell_type": "markdown",
   "metadata": {
    "id": "5Vg22v2m1xVS"
   },
   "source": [
    "## **Question 1 (5 points):**\n",
    "## Open the included dataset \"messy_Q1.xlsx\" using a **spreadsheet application** like Excel and observe the structure of the sheet. In a text cell, briefly answer these questions in a few sentences:"
   ]
  },
  {
   "cell_type": "markdown",
   "metadata": {
    "id": "tlLKf4Rma-YQ"
   },
   "source": [
    "## 1. Identify 3 or more issues that will need to be cleaned before you can encode data or extract quantitative metrics."
   ]
  },
  {
   "cell_type": "markdown",
   "metadata": {
    "id": "yfpczb-RZXP0"
   },
   "source": [
    "**I anticipate I will need to check for missing values and...**"
   ]
  },
  {
   "cell_type": "markdown",
   "metadata": {
    "id": "_8-BPs1Wa_4m"
   },
   "source": [
    "## 2. Just by looking at the first column titled \"Return AB\", what number do you anticipate its average will be around? Why?"
   ]
  },
  {
   "cell_type": "markdown",
   "metadata": {
    "id": "wuhHK8GaZfDC"
   },
   "source": [
    "**I think the average will be around XYZ because the minimum and maximum values are...**"
   ]
  },
  {
   "cell_type": "markdown",
   "metadata": {
    "id": "m4xxMTbVTIUP"
   },
   "source": [
    "## **Question 2 (10 points):**\n",
    "## Read in and load the included dataset \"messy_2025.xlsx\" as a Pandas DataFrame. When directly reading in the raw data, what happens when you call df.columns on the DataFrame?"
   ]
  },
  {
   "cell_type": "code",
   "execution_count": null,
   "metadata": {
    "id": "SATruAwZv6UK"
   },
   "outputs": [],
   "source": []
  },
  {
   "cell_type": "markdown",
   "metadata": {
    "id": "qP8qDjXswTSo"
   },
   "source": [
    "**I see that the columns don't include the actual...**"
   ]
  },
  {
   "cell_type": "markdown",
   "metadata": {
    "id": "Igt6V8Mav-6K"
   },
   "source": [
    "## Get rid of extra or leading columns and rows using any combinations of Pandas functions. Verify you have done so by running df.columns again on the trimmed dataset and verifying you have 16 columns and 200 rows. Ensure the columns are read in as the row starting with \"Date\" and ending in \"Target\".\n",
    "\n",
    "\n",
    "Reference Code:\n",
    "\n",
    "* https://pandas.pydata.org/docs/reference/api/pandas.DataFrame.iloc.html\n",
    "* https://pandas.pydata.org/docs/reference/api/pandas.DataFrame.drop.html\n",
    "* https://pandas.pydata.org/docs/reference/api/pandas.DataFrame.reset_index.html\n",
    "* https://stackoverflow.com/questions/26147180/convert-row-to-column-header-for-pandas-dataframe\n",
    "* https://stackoverflow.com/questions/40389018/dropping-multiple-columns-from-a-dataframe"
   ]
  },
  {
   "cell_type": "code",
   "execution_count": null,
   "metadata": {
    "id": "_Zbm6fLZhg3d"
   },
   "outputs": [],
   "source": [
    "# Trimming code"
   ]
  },
  {
   "cell_type": "markdown",
   "metadata": {
    "id": "FgRl-CBu3GmT"
   },
   "source": [
    "## **Question 3 (10 points):**\n",
    "## Read in and clean all columns in your DataFrame to be complete (no missing values) Pandas columns with only numerical values (integer or float).  \n",
    "\n",
    "## Once done, show proof that all columns are numerical and there are no missing values in any columns. For example, you may choose to count or compute percentages of NaN values by column."
   ]
  },
  {
   "cell_type": "code",
   "execution_count": 1,
   "metadata": {
    "id": "jtnegZDN1w7u"
   },
   "outputs": [],
   "source": [
    "# Cleaning code"
   ]
  },
  {
   "cell_type": "code",
   "execution_count": 2,
   "metadata": {
    "id": "DeprH8Okbzw6"
   },
   "outputs": [],
   "source": [
    "# Proof of numerical data types"
   ]
  },
  {
   "cell_type": "code",
   "execution_count": 3,
   "metadata": {
    "id": "NB-QcMociTjQ"
   },
   "outputs": [],
   "source": [
    "# Proof of no missing values"
   ]
  },
  {
   "cell_type": "markdown",
   "metadata": {
    "id": "EvymVhteidyl"
   },
   "source": [
    "## **Question 4 (5 points):**\n",
    "## Compute the mean of column \"Return AB\" using Pandas or NumPy. Discuss in a text cell if the mean match your initial assumption in Question 1. If not, why do you think the actual value is different? Re-explore the sheet in a spreadsheet application if needed."
   ]
  },
  {
   "cell_type": "code",
   "execution_count": 4,
   "metadata": {
    "id": "XCK8iJbGulwV"
   },
   "outputs": [],
   "source": [
    "# Report mean"
   ]
  },
  {
   "cell_type": "markdown",
   "metadata": {
    "id": "ZKpyxgUEb7AM"
   },
   "source": [
    "**The real mean is very different/not different than my initial guess....**"
   ]
  },
  {
   "cell_type": "markdown",
   "metadata": {
    "id": "v2vBNRzaiuEt"
   },
   "source": [
    "## **Question 5 (10 points):**\n",
    "## Make the following sequential transformations in your DataFrame."
   ]
  },
  {
   "cell_type": "markdown",
   "metadata": {
    "id": "CgeeSWhRxbZg"
   },
   "source": [
    "## 1. Make a **new column** called \"quarter_string\" that takes the column \"quarter\" and appends the string \"Q-\" to every value.\n",
    "For example, if \"quarter\" contains 1, then \"quarter_string\" should contain \"Q-1\".\n",
    "\n",
    "Similarly, if \"quarter\" contains 3, then \"quarter_string\" should contain. \"Q-3\"."
   ]
  },
  {
   "cell_type": "code",
   "execution_count": 5,
   "metadata": {
    "id": "Agavr31QmYRA"
   },
   "outputs": [],
   "source": [
    "# New column code"
   ]
  },
  {
   "cell_type": "markdown",
   "metadata": {
    "id": "dK3qaQEvxc6B"
   },
   "source": [
    "## 2. Encode quarter_string using **any** appropriate encoding method. In a text cell, justify why this is an appropriate encoding method in a few sentences."
   ]
  },
  {
   "cell_type": "code",
   "execution_count": 6,
   "metadata": {
    "id": "kUM0wfSqmWoB"
   },
   "outputs": [],
   "source": [
    "# Encoding code"
   ]
  },
  {
   "cell_type": "markdown",
   "metadata": {
    "id": "QyDxe6DwxeEu"
   },
   "source": [
    "## 3. **Remove** the original \"quarter\" column to avoid redundant data features. If (and only if) you created new columns during encoding then **remove** the \"quarter_string\" column as well."
   ]
  },
  {
   "cell_type": "code",
   "execution_count": 7,
   "metadata": {
    "id": "vKIMvnKkmT7M"
   },
   "outputs": [],
   "source": [
    "# Removing column(s)"
   ]
  },
  {
   "cell_type": "markdown",
   "metadata": {
    "id": "F2-X760UxfUZ"
   },
   "source": [
    "## 4. Normalize all your numerical columns using **any** appropriate normalization method. Hustify why this is an appropriate normalization method in a few sentences."
   ]
  },
  {
   "cell_type": "code",
   "execution_count": 8,
   "metadata": {
    "id": "skDuTuuYmInX"
   },
   "outputs": [],
   "source": [
    "# Normalizing code"
   ]
  },
  {
   "cell_type": "markdown",
   "metadata": {
    "id": "bV7YYJ1gxhJ-"
   },
   "source": [
    "## 5. Finally, make a DataFrame that displays the **min, max, and standard deviation** of all numerical columns in your final clean dataset."
   ]
  },
  {
   "cell_type": "code",
   "execution_count": 9,
   "metadata": {
    "id": "DYU0mp_fmKuh"
   },
   "outputs": [],
   "source": [
    "# DataFrame summary of numerical columns"
   ]
  },
  {
   "cell_type": "markdown",
   "metadata": {
    "id": "OBwLPjTmlXOw"
   },
   "source": [
    "#**Part 2: Model Evaluation (30 Points)**"
   ]
  },
  {
   "cell_type": "markdown",
   "metadata": {
    "id": "UO42kA8Nlhr4"
   },
   "source": [
    "In Part 2, you may choose to use the cleaned dataset from Part 1 for model evaluation, **or read in a new dataset.**\n",
    "\n",
    "*Example New Datasets:*\n",
    "*  Tidy Tuesday: https://github.com/rfordatascience/tidytuesday/tree/main/data\n",
    "*  Hugging Face: https://huggingface.co/datasets/nateraw/airplane-crashes-and-fatalities\n",
    "* Kaggle: https://www.kaggle.com/datasets/borapajo/food-choices?select=food_coded.csv\n",
    "* Kaggle: https://www.kaggle.com/datasets/mahnazarjmand/breast-cancer-data?resource=download"
   ]
  },
  {
   "cell_type": "markdown",
   "metadata": {
    "id": "5aOZVFstl8xF"
   },
   "source": [
    "### Dataset Loading"
   ]
  },
  {
   "cell_type": "code",
   "execution_count": null,
   "metadata": {
    "id": "IYpgYVPXlc5K"
   },
   "outputs": [],
   "source": [
    "# Load in DataFrame"
   ]
  },
  {
   "cell_type": "code",
   "execution_count": null,
   "metadata": {
    "id": "mTmDuzd2l_pA"
   },
   "outputs": [],
   "source": [
    "# Cleaning code (if necessary for new dataset)"
   ]
  },
  {
   "cell_type": "markdown",
   "metadata": {
    "id": "6A1HBCRomjlM"
   },
   "source": [
    "## **Question 1 (5 points):**\n",
    "## Implement a train test split with a ratio of your choosing for the training and test datasets."
   ]
  },
  {
   "cell_type": "code",
   "execution_count": 10,
   "metadata": {
    "id": "0TJ39vuUmma6"
   },
   "outputs": [],
   "source": [
    "# Separate features (X) and target (y)"
   ]
  },
  {
   "cell_type": "code",
   "execution_count": 11,
   "metadata": {
    "id": "FM0v05Py43TP"
   },
   "outputs": [],
   "source": [
    "# Split into train/test"
   ]
  },
  {
   "cell_type": "markdown",
   "metadata": {
    "id": "XlWc-iOOmoXC"
   },
   "source": [
    "##**Question 2 (5 points):**\n",
    "## Instantiate and fit a vanilla (default) logistic regression classifier and a K-Nearest Neighbor model with k=3 on your clean datasets and target."
   ]
  },
  {
   "cell_type": "code",
   "execution_count": null,
   "metadata": {
    "id": "Cm1qcAiM45Ws"
   },
   "outputs": [],
   "source": [
    "# Default models"
   ]
  },
  {
   "cell_type": "code",
   "execution_count": 12,
   "metadata": {
    "id": "EPBfv8krmtTb"
   },
   "outputs": [],
   "source": [
    "# Fit"
   ]
  },
  {
   "cell_type": "markdown",
   "metadata": {
    "id": "_p6IsVZBmu80"
   },
   "source": [
    "##**Question 3 (5 points):**\n",
    "## Next, familiarize yourself with the sklearn documentation for each model and their parameters. Pick 2 parameters that you want to adjust from their default values in each of the models.\n",
    "* https://scikit-learn.org/stable/modules/generated/sklearn.linear_model\n",
    "* https://scikit-learn.org/stable/modules/generated/sklearn.neighbors.KNeighborsClassifier.html\n",
    "\n",
    "## Instantiate and fit a logistic regression classifier and a K-Nearest Neighbor model with these updated parameters on your clean datasets and target."
   ]
  },
  {
   "cell_type": "code",
   "execution_count": 13,
   "metadata": {
    "id": "8ujKOS-em0hL"
   },
   "outputs": [],
   "source": [
    "# Logistic Regression tuned parameters"
   ]
  },
  {
   "cell_type": "code",
   "execution_count": 14,
   "metadata": {
    "id": "DLK2K114zOAK"
   },
   "outputs": [],
   "source": [
    "# KNN tuned parameters"
   ]
  },
  {
   "cell_type": "markdown",
   "metadata": {
    "id": "W96byByxm8gx"
   },
   "source": [
    "##**Question 4 (10 points):**\n",
    "## Compile the following metrics for all 4 of your models into one DataFrame called metrics_df. Each model should have each metric reported.\n",
    "\n",
    "* Accuracy Score\n",
    "* Precision\n",
    "* Sensitivity/Recall\n",
    "* Specificity\n",
    "* F1 Score\n",
    "\n",
    "## The first column of metrics_df has been created for you."
   ]
  },
  {
   "cell_type": "code",
   "execution_count": 18,
   "metadata": {
    "colab": {
     "base_uri": "https://localhost:8080/",
     "height": 175
    },
    "id": "r0CSdBupm-Mf",
    "outputId": "3eb7f2b3-5c05-4a99-c64a-19c6c6a4b1cc"
   },
   "outputs": [
    {
     "data": {
      "application/vnd.google.colaboratory.intrinsic+json": {
       "summary": "{\n  \"name\": \"metrics_df\",\n  \"rows\": 4,\n  \"fields\": [\n    {\n      \"column\": \"Accuracy\",\n      \"properties\": {\n        \"dtype\": \"number\",\n        \"std\": 0,\n        \"min\": 0,\n        \"max\": 0,\n        \"num_unique_values\": 1,\n        \"samples\": [\n          0\n        ],\n        \"semantic_type\": \"\",\n        \"description\": \"\"\n      }\n    }\n  ]\n}",
       "type": "dataframe",
       "variable_name": "metrics_df"
      },
      "text/html": [
       "\n",
       "  <div id=\"df-08b6c8e1-7a69-4a0c-aee4-2d9b849dadd1\" class=\"colab-df-container\">\n",
       "    <div>\n",
       "<style scoped>\n",
       "    .dataframe tbody tr th:only-of-type {\n",
       "        vertical-align: middle;\n",
       "    }\n",
       "\n",
       "    .dataframe tbody tr th {\n",
       "        vertical-align: top;\n",
       "    }\n",
       "\n",
       "    .dataframe thead th {\n",
       "        text-align: right;\n",
       "    }\n",
       "</style>\n",
       "<table border=\"1\" class=\"dataframe\">\n",
       "  <thead>\n",
       "    <tr style=\"text-align: right;\">\n",
       "      <th></th>\n",
       "      <th>Accuracy</th>\n",
       "    </tr>\n",
       "  </thead>\n",
       "  <tbody>\n",
       "    <tr>\n",
       "      <th>Logistic (Default)</th>\n",
       "      <td>0</td>\n",
       "    </tr>\n",
       "    <tr>\n",
       "      <th>KNN (Default)</th>\n",
       "      <td>0</td>\n",
       "    </tr>\n",
       "    <tr>\n",
       "      <th>Logistic (Tuned)</th>\n",
       "      <td>0</td>\n",
       "    </tr>\n",
       "    <tr>\n",
       "      <th>KNN (Tuned)</th>\n",
       "      <td>0</td>\n",
       "    </tr>\n",
       "  </tbody>\n",
       "</table>\n",
       "</div>\n",
       "    <div class=\"colab-df-buttons\">\n",
       "\n",
       "  <div class=\"colab-df-container\">\n",
       "    <button class=\"colab-df-convert\" onclick=\"convertToInteractive('df-08b6c8e1-7a69-4a0c-aee4-2d9b849dadd1')\"\n",
       "            title=\"Convert this dataframe to an interactive table.\"\n",
       "            style=\"display:none;\">\n",
       "\n",
       "  <svg xmlns=\"http://www.w3.org/2000/svg\" height=\"24px\" viewBox=\"0 -960 960 960\">\n",
       "    <path d=\"M120-120v-720h720v720H120Zm60-500h600v-160H180v160Zm220 220h160v-160H400v160Zm0 220h160v-160H400v160ZM180-400h160v-160H180v160Zm440 0h160v-160H620v160ZM180-180h160v-160H180v160Zm440 0h160v-160H620v160Z\"/>\n",
       "  </svg>\n",
       "    </button>\n",
       "\n",
       "  <style>\n",
       "    .colab-df-container {\n",
       "      display:flex;\n",
       "      gap: 12px;\n",
       "    }\n",
       "\n",
       "    .colab-df-convert {\n",
       "      background-color: #E8F0FE;\n",
       "      border: none;\n",
       "      border-radius: 50%;\n",
       "      cursor: pointer;\n",
       "      display: none;\n",
       "      fill: #1967D2;\n",
       "      height: 32px;\n",
       "      padding: 0 0 0 0;\n",
       "      width: 32px;\n",
       "    }\n",
       "\n",
       "    .colab-df-convert:hover {\n",
       "      background-color: #E2EBFA;\n",
       "      box-shadow: 0px 1px 2px rgba(60, 64, 67, 0.3), 0px 1px 3px 1px rgba(60, 64, 67, 0.15);\n",
       "      fill: #174EA6;\n",
       "    }\n",
       "\n",
       "    .colab-df-buttons div {\n",
       "      margin-bottom: 4px;\n",
       "    }\n",
       "\n",
       "    [theme=dark] .colab-df-convert {\n",
       "      background-color: #3B4455;\n",
       "      fill: #D2E3FC;\n",
       "    }\n",
       "\n",
       "    [theme=dark] .colab-df-convert:hover {\n",
       "      background-color: #434B5C;\n",
       "      box-shadow: 0px 1px 3px 1px rgba(0, 0, 0, 0.15);\n",
       "      filter: drop-shadow(0px 1px 2px rgba(0, 0, 0, 0.3));\n",
       "      fill: #FFFFFF;\n",
       "    }\n",
       "  </style>\n",
       "\n",
       "    <script>\n",
       "      const buttonEl =\n",
       "        document.querySelector('#df-08b6c8e1-7a69-4a0c-aee4-2d9b849dadd1 button.colab-df-convert');\n",
       "      buttonEl.style.display =\n",
       "        google.colab.kernel.accessAllowed ? 'block' : 'none';\n",
       "\n",
       "      async function convertToInteractive(key) {\n",
       "        const element = document.querySelector('#df-08b6c8e1-7a69-4a0c-aee4-2d9b849dadd1');\n",
       "        const dataTable =\n",
       "          await google.colab.kernel.invokeFunction('convertToInteractive',\n",
       "                                                    [key], {});\n",
       "        if (!dataTable) return;\n",
       "\n",
       "        const docLinkHtml = 'Like what you see? Visit the ' +\n",
       "          '<a target=\"_blank\" href=https://colab.research.google.com/notebooks/data_table.ipynb>data table notebook</a>'\n",
       "          + ' to learn more about interactive tables.';\n",
       "        element.innerHTML = '';\n",
       "        dataTable['output_type'] = 'display_data';\n",
       "        await google.colab.output.renderOutput(dataTable, element);\n",
       "        const docLink = document.createElement('div');\n",
       "        docLink.innerHTML = docLinkHtml;\n",
       "        element.appendChild(docLink);\n",
       "      }\n",
       "    </script>\n",
       "  </div>\n",
       "\n",
       "\n",
       "    <div id=\"df-582db3cd-b38f-40a6-a592-3d4795f42c75\">\n",
       "      <button class=\"colab-df-quickchart\" onclick=\"quickchart('df-582db3cd-b38f-40a6-a592-3d4795f42c75')\"\n",
       "                title=\"Suggest charts\"\n",
       "                style=\"display:none;\">\n",
       "\n",
       "<svg xmlns=\"http://www.w3.org/2000/svg\" height=\"24px\"viewBox=\"0 0 24 24\"\n",
       "     width=\"24px\">\n",
       "    <g>\n",
       "        <path d=\"M19 3H5c-1.1 0-2 .9-2 2v14c0 1.1.9 2 2 2h14c1.1 0 2-.9 2-2V5c0-1.1-.9-2-2-2zM9 17H7v-7h2v7zm4 0h-2V7h2v10zm4 0h-2v-4h2v4z\"/>\n",
       "    </g>\n",
       "</svg>\n",
       "      </button>\n",
       "\n",
       "<style>\n",
       "  .colab-df-quickchart {\n",
       "      --bg-color: #E8F0FE;\n",
       "      --fill-color: #1967D2;\n",
       "      --hover-bg-color: #E2EBFA;\n",
       "      --hover-fill-color: #174EA6;\n",
       "      --disabled-fill-color: #AAA;\n",
       "      --disabled-bg-color: #DDD;\n",
       "  }\n",
       "\n",
       "  [theme=dark] .colab-df-quickchart {\n",
       "      --bg-color: #3B4455;\n",
       "      --fill-color: #D2E3FC;\n",
       "      --hover-bg-color: #434B5C;\n",
       "      --hover-fill-color: #FFFFFF;\n",
       "      --disabled-bg-color: #3B4455;\n",
       "      --disabled-fill-color: #666;\n",
       "  }\n",
       "\n",
       "  .colab-df-quickchart {\n",
       "    background-color: var(--bg-color);\n",
       "    border: none;\n",
       "    border-radius: 50%;\n",
       "    cursor: pointer;\n",
       "    display: none;\n",
       "    fill: var(--fill-color);\n",
       "    height: 32px;\n",
       "    padding: 0;\n",
       "    width: 32px;\n",
       "  }\n",
       "\n",
       "  .colab-df-quickchart:hover {\n",
       "    background-color: var(--hover-bg-color);\n",
       "    box-shadow: 0 1px 2px rgba(60, 64, 67, 0.3), 0 1px 3px 1px rgba(60, 64, 67, 0.15);\n",
       "    fill: var(--button-hover-fill-color);\n",
       "  }\n",
       "\n",
       "  .colab-df-quickchart-complete:disabled,\n",
       "  .colab-df-quickchart-complete:disabled:hover {\n",
       "    background-color: var(--disabled-bg-color);\n",
       "    fill: var(--disabled-fill-color);\n",
       "    box-shadow: none;\n",
       "  }\n",
       "\n",
       "  .colab-df-spinner {\n",
       "    border: 2px solid var(--fill-color);\n",
       "    border-color: transparent;\n",
       "    border-bottom-color: var(--fill-color);\n",
       "    animation:\n",
       "      spin 1s steps(1) infinite;\n",
       "  }\n",
       "\n",
       "  @keyframes spin {\n",
       "    0% {\n",
       "      border-color: transparent;\n",
       "      border-bottom-color: var(--fill-color);\n",
       "      border-left-color: var(--fill-color);\n",
       "    }\n",
       "    20% {\n",
       "      border-color: transparent;\n",
       "      border-left-color: var(--fill-color);\n",
       "      border-top-color: var(--fill-color);\n",
       "    }\n",
       "    30% {\n",
       "      border-color: transparent;\n",
       "      border-left-color: var(--fill-color);\n",
       "      border-top-color: var(--fill-color);\n",
       "      border-right-color: var(--fill-color);\n",
       "    }\n",
       "    40% {\n",
       "      border-color: transparent;\n",
       "      border-right-color: var(--fill-color);\n",
       "      border-top-color: var(--fill-color);\n",
       "    }\n",
       "    60% {\n",
       "      border-color: transparent;\n",
       "      border-right-color: var(--fill-color);\n",
       "    }\n",
       "    80% {\n",
       "      border-color: transparent;\n",
       "      border-right-color: var(--fill-color);\n",
       "      border-bottom-color: var(--fill-color);\n",
       "    }\n",
       "    90% {\n",
       "      border-color: transparent;\n",
       "      border-bottom-color: var(--fill-color);\n",
       "    }\n",
       "  }\n",
       "</style>\n",
       "\n",
       "      <script>\n",
       "        async function quickchart(key) {\n",
       "          const quickchartButtonEl =\n",
       "            document.querySelector('#' + key + ' button');\n",
       "          quickchartButtonEl.disabled = true;  // To prevent multiple clicks.\n",
       "          quickchartButtonEl.classList.add('colab-df-spinner');\n",
       "          try {\n",
       "            const charts = await google.colab.kernel.invokeFunction(\n",
       "                'suggestCharts', [key], {});\n",
       "          } catch (error) {\n",
       "            console.error('Error during call to suggestCharts:', error);\n",
       "          }\n",
       "          quickchartButtonEl.classList.remove('colab-df-spinner');\n",
       "          quickchartButtonEl.classList.add('colab-df-quickchart-complete');\n",
       "        }\n",
       "        (() => {\n",
       "          let quickchartButtonEl =\n",
       "            document.querySelector('#df-582db3cd-b38f-40a6-a592-3d4795f42c75 button');\n",
       "          quickchartButtonEl.style.display =\n",
       "            google.colab.kernel.accessAllowed ? 'block' : 'none';\n",
       "        })();\n",
       "      </script>\n",
       "    </div>\n",
       "\n",
       "  <div id=\"id_d21aef87-bd2f-4f20-85db-03feabb917ff\">\n",
       "    <style>\n",
       "      .colab-df-generate {\n",
       "        background-color: #E8F0FE;\n",
       "        border: none;\n",
       "        border-radius: 50%;\n",
       "        cursor: pointer;\n",
       "        display: none;\n",
       "        fill: #1967D2;\n",
       "        height: 32px;\n",
       "        padding: 0 0 0 0;\n",
       "        width: 32px;\n",
       "      }\n",
       "\n",
       "      .colab-df-generate:hover {\n",
       "        background-color: #E2EBFA;\n",
       "        box-shadow: 0px 1px 2px rgba(60, 64, 67, 0.3), 0px 1px 3px 1px rgba(60, 64, 67, 0.15);\n",
       "        fill: #174EA6;\n",
       "      }\n",
       "\n",
       "      [theme=dark] .colab-df-generate {\n",
       "        background-color: #3B4455;\n",
       "        fill: #D2E3FC;\n",
       "      }\n",
       "\n",
       "      [theme=dark] .colab-df-generate:hover {\n",
       "        background-color: #434B5C;\n",
       "        box-shadow: 0px 1px 3px 1px rgba(0, 0, 0, 0.15);\n",
       "        filter: drop-shadow(0px 1px 2px rgba(0, 0, 0, 0.3));\n",
       "        fill: #FFFFFF;\n",
       "      }\n",
       "    </style>\n",
       "    <button class=\"colab-df-generate\" onclick=\"generateWithVariable('metrics_df')\"\n",
       "            title=\"Generate code using this dataframe.\"\n",
       "            style=\"display:none;\">\n",
       "\n",
       "  <svg xmlns=\"http://www.w3.org/2000/svg\" height=\"24px\"viewBox=\"0 0 24 24\"\n",
       "       width=\"24px\">\n",
       "    <path d=\"M7,19H8.4L18.45,9,17,7.55,7,17.6ZM5,21V16.75L18.45,3.32a2,2,0,0,1,2.83,0l1.4,1.43a1.91,1.91,0,0,1,.58,1.4,1.91,1.91,0,0,1-.58,1.4L9.25,21ZM18.45,9,17,7.55Zm-12,3A5.31,5.31,0,0,0,4.9,8.1,5.31,5.31,0,0,0,1,6.5,5.31,5.31,0,0,0,4.9,4.9,5.31,5.31,0,0,0,6.5,1,5.31,5.31,0,0,0,8.1,4.9,5.31,5.31,0,0,0,12,6.5,5.46,5.46,0,0,0,6.5,12Z\"/>\n",
       "  </svg>\n",
       "    </button>\n",
       "    <script>\n",
       "      (() => {\n",
       "      const buttonEl =\n",
       "        document.querySelector('#id_d21aef87-bd2f-4f20-85db-03feabb917ff button.colab-df-generate');\n",
       "      buttonEl.style.display =\n",
       "        google.colab.kernel.accessAllowed ? 'block' : 'none';\n",
       "\n",
       "      buttonEl.onclick = () => {\n",
       "        google.colab.notebook.generateWithVariable('metrics_df');\n",
       "      }\n",
       "      })();\n",
       "    </script>\n",
       "  </div>\n",
       "\n",
       "    </div>\n",
       "  </div>\n"
      ],
      "text/plain": [
       "                    Accuracy\n",
       "Logistic (Default)         0\n",
       "KNN (Default)              0\n",
       "Logistic (Tuned)           0\n",
       "KNN (Tuned)                0"
      ]
     },
     "execution_count": 18,
     "metadata": {},
     "output_type": "execute_result"
    }
   ],
   "source": [
    "# Compile metrics\n",
    "metrics = {\n",
    "    \"Logistic (Default)\": [0],\n",
    "    \"KNN (Default)\": [0],\n",
    "    \"Logistic (Tuned)\": [0],\n",
    "    \"KNN (Tuned)\": [0]\n",
    "}\n",
    "\n",
    "metrics_df = pd.DataFrame(metrics, index=[\"Accuracy\"]).T\n",
    "metrics_df"
   ]
  },
  {
   "cell_type": "markdown",
   "metadata": {
    "id": "AJAFTvyRnT4S"
   },
   "source": [
    "## **Question 5 (5 points):**\n",
    "## Briefly summarize the results of your simple model tuning in a text cell. Did tuning significantly change any model metrics? Why might accuracy not be a good choice for model evaluation for your specific dataset and data domain?"
   ]
  },
  {
   "cell_type": "markdown",
   "metadata": {
    "id": "3oKX7Wfzn2MK"
   },
   "source": [
    "**Tuning parameters slightly changed the performance of both models. For Logistic Regression...**\n",
    "\n",
    "**In financial or imbalanced datasets, accuracy can...**"
   ]
  },
  {
   "cell_type": "markdown",
   "metadata": {
    "id": "tV99z2i_oAsD"
   },
   "source": [
    "#**Part 3: Cross-Validation and Optimization (30 Points)**"
   ]
  },
  {
   "cell_type": "markdown",
   "metadata": {
    "id": "0YcvFJE3oRVN"
   },
   "source": [
    "In Part 3, you will reuse the dataframe you loaded in Part 2 and apply more robust validation practices."
   ]
  },
  {
   "cell_type": "markdown",
   "metadata": {
    "id": "IafVVaVd0jy5"
   },
   "source": [
    "## **Question 1 (5 points):**\n",
    "## Make a new column called \"target_binary\" where the value is 1 if the value in \"target\" is higher than the mean and 0 if the value in \"target\" is lower than the mean.\n",
    "\n",
    "## Drop the original \"target\" column to make this a classification problem. Create a new training and test split."
   ]
  },
  {
   "cell_type": "code",
   "execution_count": 19,
   "metadata": {
    "id": "o1-eesE20ndK"
   },
   "outputs": [],
   "source": [
    "# Create binary target based on mean"
   ]
  },
  {
   "cell_type": "code",
   "execution_count": 20,
   "metadata": {
    "id": "EFJdTcCJ1FrO"
   },
   "outputs": [],
   "source": [
    "# Train test split"
   ]
  },
  {
   "cell_type": "markdown",
   "metadata": {
    "id": "oLldSRCbod7u"
   },
   "source": [
    "## **Question 2 (5 points):**\n",
    "## Run the cell below to determine the optimal k number of neighbors from the outputted graph using 5 fold cross validation. Report the optimal number and why you believe it is the optimal number in the text markdown cell."
   ]
  },
  {
   "cell_type": "code",
   "execution_count": null,
   "metadata": {
    "id": "GAW-cNUWorCu"
   },
   "outputs": [],
   "source": [
    "k_values = list(range(1, 31))\n",
    "cv = StratifiedKFold(n_splits=5, shuffle=True, random_state=42)\n",
    "\n",
    "cv_means = []\n",
    "cv_stds = []\n",
    "for k in k_values:\n",
    "    knn = KNeighborsClassifier(n_neighbors=k)\n",
    "    scores = cross_val_score(knn, X_train, y_train, cv=cv, scoring=\"accuracy\")\n",
    "    cv_means.append(scores.mean())\n",
    "    cv_stds.append(scores.std())"
   ]
  },
  {
   "cell_type": "code",
   "execution_count": null,
   "metadata": {
    "colab": {
     "base_uri": "https://localhost:8080/",
     "height": 410
    },
    "id": "-IJolM7uoDV6",
    "outputId": "cc4bbfb2-565f-4732-d194-616a81f5ecfd"
   },
   "outputs": [
    {
     "data": {
      "image/png": "[encoded data removed]",
      "text/plain": [
       "<Figure size 700x400 with 1 Axes>"
      ]
     },
     "metadata": {},
     "output_type": "display_data"
    }
   ],
   "source": [
    "plt.figure(figsize=(7,4))\n",
    "plt.plot(k_values, cv_means, marker=\"o\")\n",
    "plt.fill_between(k_values,\n",
    "                 np.array(cv_means) - np.array(cv_stds),\n",
    "                 np.array(cv_means) + np.array(cv_stds),\n",
    "                 alpha=0.2)\n",
    "plt.xlabel(\"k (number of neighbors)\")\n",
    "plt.ylabel(\"CV Accuracy\")\n",
    "plt.title(\"Elbow plot for K in KNN (5-fold CV on training set)\")\n",
    "plt.xticks(k_values)\n",
    "plt.grid(True)\n",
    "plt.show()"
   ]
  },
  {
   "cell_type": "code",
   "execution_count": null,
   "metadata": {
    "colab": {
     "base_uri": "https://localhost:8080/"
    },
    "id": "Kc9z0NTq1Xby",
    "outputId": "239cf231-8f97-4367-c0e2-80e648a85cd6"
   },
   "outputs": [
    {
     "name": "stdout",
     "output_type": "stream",
     "text": [
      "Optimal k by CV mean accuracy: 11 (mean=0.5357, std=0.0391)\n"
     ]
    }
   ],
   "source": [
    "# Pick k with highest mean accuracy; if tie, smallest k\n",
    "best_idx = int(np.argmax(cv_means))\n",
    "k_opt = k_values[best_idx]\n",
    "print(f\"Optimal k by CV mean accuracy: {k_opt} (mean={cv_means[best_idx]:.4f}, std={cv_stds[best_idx]:.4f})\")"
   ]
  },
  {
   "cell_type": "markdown",
   "metadata": {
    "id": "hSUwUOdU1jXV"
   },
   "source": [
    "**The best k is...because...**"
   ]
  },
  {
   "cell_type": "markdown",
   "metadata": {
    "id": "PNSO4aEU2FzD"
   },
   "source": [
    "## **Question 3 (5 points):**\n",
    "##Fit a new KNN with the optimal k and plot a confusion matrix for its performance on the test dataset using sklearn's ConfusionMatrixDisplay function."
   ]
  },
  {
   "cell_type": "code",
   "execution_count": null,
   "metadata": {
    "id": "lDZFj25O5XCk"
   },
   "outputs": [],
   "source": [
    "# KNN model"
   ]
  },
  {
   "cell_type": "code",
   "execution_count": null,
   "metadata": {
    "colab": {
     "base_uri": "https://localhost:8080/",
     "height": 472
    },
    "id": "wB0VJAk61pDm",
    "outputId": "630017db-3981-4983-eed2-0d435c672b7a"
   },
   "outputs": [
    {
     "data": {
      "image/png": "[encoded data removed]",
      "text/plain": [
       "<Figure size 640x480 with 2 Axes>"
      ]
     },
     "metadata": {},
     "output_type": "display_data"
    }
   ],
   "source": [
    "# Display confusion matrix"
   ]
  },
  {
   "cell_type": "markdown",
   "metadata": {
    "id": "R1XNPVb22XWN"
   },
   "source": [
    "##In a text markdown cell, explain which mistakes are most likely according to your confusion matrix. Which digits are more likely to be confused for each other? Do you find any interesting patterns?"
   ]
  },
  {
   "cell_type": "markdown",
   "metadata": {
    "id": "woh2sbc_2zhl"
   },
   "source": [
    "**The two error types are...**"
   ]
  },
  {
   "cell_type": "markdown",
   "metadata": {
    "id": "Hw4hbYLl3B59"
   },
   "source": [
    "## **Question 4 (10 points):**\n",
    "## Perform 10-fold cross-validation on a vanilla KNN with the optimal k and compare the results of single split vs. 10-fold cross-validation by plotting accuracy (y-axis) against fold number (x-axis). Plot an additional horizontal line to mark the single split's accuracy on the plot.\n"
   ]
  },
  {
   "cell_type": "code",
   "execution_count": null,
   "metadata": {
    "id": "syzOBDIO5dqr"
   },
   "outputs": [],
   "source": [
    "from sklearn.metrics import accuracy_score\n",
    "\n",
    "# Single-split accuracy"
   ]
  },
  {
   "cell_type": "code",
   "execution_count": null,
   "metadata": {
    "id": "EmU_ZtI43GEf"
   },
   "outputs": [],
   "source": [
    "# 10-fold CV on the whole dataset (same model/params)"
   ]
  },
  {
   "cell_type": "code",
   "execution_count": null,
   "metadata": {
    "colab": {
     "base_uri": "https://localhost:8080/",
     "height": 410
    },
    "id": "tRT1Gpz_3dJy",
    "outputId": "52e708e5-cf6c-4af1-83d4-ff30bbb1a3c6"
   },
   "outputs": [
    {
     "data": {
      "image/png": "[encoded data removed]",
      "text/plain": [
       "<Figure size 700x400 with 1 Axes>"
      ]
     },
     "metadata": {},
     "output_type": "display_data"
    }
   ],
   "source": [
    "# Plot with additional horizontal line"
   ]
  },
  {
   "cell_type": "markdown",
   "metadata": {
    "id": "jNBbsdUE6QqZ"
   },
   "source": [
    "## **Question 5 (5 points):**\n",
    "## Describe the effect of different fold numbers on the results of cross validation in a text markdown cell and if the results are expected. Give the average accuracy of CV scores across all folds.\n",
    "\n",
    "## Does your plot look reasonable? Why or why not?"
   ]
  },
  {
   "cell_type": "code",
   "execution_count": null,
   "metadata": {
    "id": "yUC3tN6Q6vlw"
   },
   "outputs": [],
   "source": [
    "# Average accuracy across folds"
   ]
  },
  {
   "cell_type": "markdown",
   "metadata": {
    "id": "DjC33Zo637hj"
   },
   "source": [
    "**Yes, my plot looks reasonable because...**"
   ]
  }
 ],
 "metadata": {
  "colab": {
   "provenance": []
  },
  "kernelspec": {
   "display_name": "Python 3 (ipykernel)",
   "language": "python",
   "name": "python3"
  },
  "language_info": {
   "codemirror_mode": {
    "name": "ipython",
    "version": 3
   },
   "file_extension": ".py",
   "mimetype": "text/x-python",
   "name": "python",
   "nbconvert_exporter": "python",
   "pygments_lexer": "ipython3",
   "version": "3.8.17"
  }
 },
 "nbformat": 4,
 "nbformat_minor": 4
}
